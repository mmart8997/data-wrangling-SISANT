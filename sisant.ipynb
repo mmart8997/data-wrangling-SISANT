{
 "cells": [
  {
   "cell_type": "markdown",
   "metadata": {},
   "source": [
    "# DATASET SISANT - Cadastro de Drones"
   ]
  },
  {
   "cell_type": "markdown",
   "metadata": {},
   "source": [
    "### Este dataset contém os registros de drones até o dia 26/10/2022.\n",
    "#### O dataset possui informações cadastrais, então as observações serão voltadas a clusterização e medição."
   ]
  },
  {
   "cell_type": "code",
   "execution_count": 1,
   "metadata": {},
   "outputs": [],
   "source": [
    "#Bibliotecas\n",
    "import pandas as pd\n",
    "import numpy as np\n",
    "import plotly.express as px"
   ]
  },
  {
   "cell_type": "code",
   "execution_count": 2,
   "metadata": {},
   "outputs": [],
   "source": [
    "#DataFrame: a primeira linha do arquivo informa a data de extração do relatório\n",
    "df = pd.read_csv('SISANT.csv',skiprows=0 ,header=1, sep=';')"
   ]
  },
  {
   "cell_type": "code",
   "execution_count": 3,
   "metadata": {},
   "outputs": [
    {
     "data": {
      "text/plain": [
       "1038120"
      ]
     },
     "execution_count": 3,
     "metadata": {},
     "output_type": "execute_result"
    }
   ],
   "source": [
    "#Verifica o tamanho do DataFrame\n",
    "df.size"
   ]
  },
  {
   "cell_type": "code",
   "execution_count": 4,
   "metadata": {},
   "outputs": [
    {
     "name": "stdout",
     "output_type": "stream",
     "text": [
      "<class 'pandas.core.frame.DataFrame'>\n",
      "RangeIndex: 103812 entries, 0 to 103811\n",
      "Data columns (total 10 columns):\n",
      " #   Column                    Non-Null Count   Dtype  \n",
      "---  ------                    --------------   -----  \n",
      " 0   CODIGO_AERONAVE           103812 non-null  object \n",
      " 1   DATA_VALIDADE             103812 non-null  object \n",
      " 2   OPERADOR                  103812 non-null  object \n",
      " 3   CPF_CNPJ                  103812 non-null  object \n",
      " 4   TIPO_USO                  103812 non-null  object \n",
      " 5   FABRICANTE                103808 non-null  object \n",
      " 6   MODELO                    103808 non-null  object \n",
      " 7   NUMERO_SERIE              103681 non-null  object \n",
      " 8   PESO_MAXIMO_DECOLAGEM_KG  103812 non-null  float64\n",
      " 9   RAMO_ATIVIDADE            103772 non-null  object \n",
      "dtypes: float64(1), object(9)\n",
      "memory usage: 7.9+ MB\n"
     ]
    }
   ],
   "source": [
    "#Exibe os tipos de dados do DataFrame\n",
    "df.info()"
   ]
  },
  {
   "cell_type": "code",
   "execution_count": 5,
   "metadata": {},
   "outputs": [
    {
     "data": {
      "text/plain": [
       "False    103796\n",
       "True         16\n",
       "dtype: int64"
      ]
     },
     "execution_count": 5,
     "metadata": {},
     "output_type": "execute_result"
    }
   ],
   "source": [
    "#Verifica duplicidades\n",
    "df.duplicated().value_counts()"
   ]
  },
  {
   "cell_type": "markdown",
   "metadata": {},
   "source": [
    "As duplicidades devem ser excluídas, pois são uma anomalia nesse dataset."
   ]
  },
  {
   "cell_type": "code",
   "execution_count": 6,
   "metadata": {},
   "outputs": [],
   "source": [
    "#Apaga as duplicidades\n",
    "df.drop_duplicates(inplace=True)"
   ]
  },
  {
   "cell_type": "code",
   "execution_count": 7,
   "metadata": {},
   "outputs": [],
   "source": [
    "#Apaga as colunas que não serão analisadas\n",
    "del df['OPERADOR']\n",
    "del df['CPF_CNPJ']\n",
    "del df['NUMERO_SERIE']"
   ]
  },
  {
   "cell_type": "code",
   "execution_count": 8,
   "metadata": {},
   "outputs": [
    {
     "data": {
      "text/html": [
       "<div>\n",
       "<style scoped>\n",
       "    .dataframe tbody tr th:only-of-type {\n",
       "        vertical-align: middle;\n",
       "    }\n",
       "\n",
       "    .dataframe tbody tr th {\n",
       "        vertical-align: top;\n",
       "    }\n",
       "\n",
       "    .dataframe thead th {\n",
       "        text-align: right;\n",
       "    }\n",
       "</style>\n",
       "<table border=\"1\" class=\"dataframe\">\n",
       "  <thead>\n",
       "    <tr style=\"text-align: right;\">\n",
       "      <th></th>\n",
       "      <th>CODIGO_AERONAVE</th>\n",
       "      <th>DATA_VALIDADE</th>\n",
       "      <th>TIPO_USO</th>\n",
       "      <th>FABRICANTE</th>\n",
       "      <th>MODELO</th>\n",
       "      <th>PESO_MAXIMO_DECOLAGEM_KG</th>\n",
       "      <th>RAMO_ATIVIDADE</th>\n",
       "    </tr>\n",
       "  </thead>\n",
       "  <tbody>\n",
       "    <tr>\n",
       "      <th>0</th>\n",
       "      <td>PP- 11082012</td>\n",
       "      <td>05/01/2024</td>\n",
       "      <td>Básico</td>\n",
       "      <td>DJI</td>\n",
       "      <td>Mavic</td>\n",
       "      <td>0.743</td>\n",
       "      <td>Aerocinematografia</td>\n",
       "    </tr>\n",
       "    <tr>\n",
       "      <th>1</th>\n",
       "      <td>PP- 26534803</td>\n",
       "      <td>07/04/2024</td>\n",
       "      <td>Básico</td>\n",
       "      <td>DJI</td>\n",
       "      <td>Mavic 2 Pro</td>\n",
       "      <td>9.000</td>\n",
       "      <td>Aerofotografia</td>\n",
       "    </tr>\n",
       "    <tr>\n",
       "      <th>2</th>\n",
       "      <td>PP- 35041299</td>\n",
       "      <td>03/01/2024</td>\n",
       "      <td>Básico</td>\n",
       "      <td>DJI</td>\n",
       "      <td>Mavic</td>\n",
       "      <td>0.128</td>\n",
       "      <td>Aeroinspeção</td>\n",
       "    </tr>\n",
       "    <tr>\n",
       "      <th>3</th>\n",
       "      <td>PP- 40211550</td>\n",
       "      <td>05/05/2023</td>\n",
       "      <td>Básico</td>\n",
       "      <td>DJI</td>\n",
       "      <td>Phantom 4 Pro</td>\n",
       "      <td>1.388</td>\n",
       "      <td>Aerolevantamento - Aerofotogrametria</td>\n",
       "    </tr>\n",
       "    <tr>\n",
       "      <th>4</th>\n",
       "      <td>PP-000000001</td>\n",
       "      <td>26/03/2023</td>\n",
       "      <td>Básico</td>\n",
       "      <td>DJI</td>\n",
       "      <td>Mavic</td>\n",
       "      <td>1.000</td>\n",
       "      <td>Aerocinematografia</td>\n",
       "    </tr>\n",
       "  </tbody>\n",
       "</table>\n",
       "</div>"
      ],
      "text/plain": [
       "  CODIGO_AERONAVE DATA_VALIDADE TIPO_USO FABRICANTE         MODELO  \\\n",
       "0    PP- 11082012    05/01/2024   Básico        DJI          Mavic   \n",
       "1    PP- 26534803    07/04/2024   Básico        DJI    Mavic 2 Pro   \n",
       "2    PP- 35041299    03/01/2024   Básico        DJI          Mavic   \n",
       "3    PP- 40211550    05/05/2023   Básico        DJI  Phantom 4 Pro   \n",
       "4    PP-000000001    26/03/2023   Básico        DJI          Mavic   \n",
       "\n",
       "   PESO_MAXIMO_DECOLAGEM_KG                        RAMO_ATIVIDADE  \n",
       "0                     0.743                    Aerocinematografia  \n",
       "1                     9.000                        Aerofotografia  \n",
       "2                     0.128                          Aeroinspeção  \n",
       "3                     1.388  Aerolevantamento - Aerofotogrametria  \n",
       "4                     1.000                    Aerocinematografia  "
      ]
     },
     "execution_count": 8,
     "metadata": {},
     "output_type": "execute_result"
    }
   ],
   "source": [
    "#Exibe as primeiras linhas do DataFrame\n",
    "df.head()"
   ]
  },
  {
   "cell_type": "code",
   "execution_count": 9,
   "metadata": {},
   "outputs": [
    {
     "data": {
      "text/plain": [
       "CODIGO_AERONAVE              0\n",
       "DATA_VALIDADE                0\n",
       "TIPO_USO                     0\n",
       "FABRICANTE                   4\n",
       "MODELO                       4\n",
       "PESO_MAXIMO_DECOLAGEM_KG     0\n",
       "RAMO_ATIVIDADE              40\n",
       "dtype: int64"
      ]
     },
     "execution_count": 9,
     "metadata": {},
     "output_type": "execute_result"
    }
   ],
   "source": [
    "#Verifica registros nulos\n",
    "df.isnull().sum()"
   ]
  },
  {
   "cell_type": "markdown",
   "metadata": {},
   "source": [
    "Não será aplicado qualquer tratamento nos valores nulos, pois as principais colunas para a análise possuem de 0 à 4 valores nulos e não vão interferir na análise."
   ]
  },
  {
   "cell_type": "markdown",
   "metadata": {},
   "source": [
    "### Exploração do dataset"
   ]
  },
  {
   "cell_type": "code",
   "execution_count": 10,
   "metadata": {},
   "outputs": [
    {
     "name": "stdout",
     "output_type": "stream",
     "text": [
      "Validade Mínima: 01/01/2023\n",
      "Validade Máxima: 31/12/2023\n"
     ]
    }
   ],
   "source": [
    "#Verificação sobre a data de validade\n",
    "print('Validade Mínima:',df.DATA_VALIDADE.min())\n",
    "print('Validade Máxima:',df.DATA_VALIDADE.max())"
   ]
  },
  {
   "cell_type": "markdown",
   "metadata": {},
   "source": [
    "Todos os registros do DataFrame estão dentro da validade."
   ]
  },
  {
   "cell_type": "code",
   "execution_count": 11,
   "metadata": {},
   "outputs": [
    {
     "data": {
      "text/plain": [
       "DJI                             87042\n",
       "FIMI                             1463\n",
       "Hubsan                            837\n",
       "PARROT                            792\n",
       "Xiaomi FIMI                       778\n",
       "                                ...  \n",
       "LRC                                 1\n",
       "C Flu fé 2                          1\n",
       "Cherrocasa                          1\n",
       "Cherokee                            1\n",
       "C-Fly Intelligent Technology        1\n",
       "Name: FABRICANTE, Length: 2707, dtype: int64"
      ]
     },
     "execution_count": 11,
     "metadata": {},
     "output_type": "execute_result"
    }
   ],
   "source": [
    "#Verificação sobre os fabricantes\n",
    "df.FABRICANTE.value_counts()"
   ]
  },
  {
   "cell_type": "markdown",
   "metadata": {},
   "source": [
    "Mesmo antes de tratar os nomes dos fabricantes, é possível notar a imensa concentração dos registros de drones com a fabricante DJI."
   ]
  },
  {
   "cell_type": "code",
   "execution_count": 12,
   "metadata": {},
   "outputs": [
    {
     "data": {
      "text/plain": [
       "Básico      103566\n",
       "Avançado       230\n",
       "Name: TIPO_USO, dtype: int64"
      ]
     },
     "execution_count": 12,
     "metadata": {},
     "output_type": "execute_result"
    }
   ],
   "source": [
    "#Verificação sobre os tipos de uso \n",
    "df.TIPO_USO.value_counts()"
   ]
  },
  {
   "cell_type": "markdown",
   "metadata": {},
   "source": [
    "Quase a totalidade dos drones foram registrados como tipo de uso básico."
   ]
  },
  {
   "cell_type": "code",
   "execution_count": 13,
   "metadata": {},
   "outputs": [
    {
     "data": {
      "text/plain": [
       "Mavic            21961\n",
       "MINI 2            4799\n",
       "Phantom 4 Pro     4648\n",
       "Phantom 3         4521\n",
       "Spark             4333\n",
       "                 ...  \n",
       "ASW-17               1\n",
       "SU 35                1\n",
       "F 16                 1\n",
       "F 15                 1\n",
       "Sg700D               1\n",
       "Name: MODELO, Length: 8898, dtype: int64"
      ]
     },
     "execution_count": 13,
     "metadata": {},
     "output_type": "execute_result"
    }
   ],
   "source": [
    "#Verificação sobre os modelos\n",
    "df.MODELO.value_counts()"
   ]
  },
  {
   "cell_type": "markdown",
   "metadata": {},
   "source": [
    "Assim como no campo \"Fabricante\" os principais modelos são da empresa DJI, no entanto, os registros não estão normalizados cada usuário pode ter digitado de uma forma diferente os modelos dos drones."
   ]
  },
  {
   "cell_type": "code",
   "execution_count": 14,
   "metadata": {},
   "outputs": [
    {
     "data": {
      "text/plain": [
       "Recreativo                                                           56765\n",
       "Aerofotografia                                                       13134\n",
       "Aerocinematografia                                                   11406\n",
       "Aeroinspeção                                                          4105\n",
       "Aerolevantamento - Aerofotogrametria                                  3200\n",
       "                                                                     ...  \n",
       "SEGURANÇA AEROPORTUÁRIA                                                  1\n",
       "Para fins de filmagem e fotos aéreas                                     1\n",
       "Fotos de terrenos para venda                                             1\n",
       "Monitoramento Aéreo(Segurança Privada),  Fotos e Filmagens Aéreas        1\n",
       "Medição Estoque, Complementando a Topografia                             1\n",
       "Name: RAMO_ATIVIDADE, Length: 3122, dtype: int64"
      ]
     },
     "execution_count": 14,
     "metadata": {},
     "output_type": "execute_result"
    }
   ],
   "source": [
    "#Verificação sobre os ramos de atividades\n",
    "df.RAMO_ATIVIDADE.value_counts()"
   ]
  },
  {
   "cell_type": "markdown",
   "metadata": {},
   "source": [
    "Mais da metade dos registros são de drones destinados para fins recreativos. O campo também trans outras atividades principais com grande representatividade entre os registros."
   ]
  },
  {
   "cell_type": "code",
   "execution_count": 15,
   "metadata": {},
   "outputs": [
    {
     "data": {
      "text/plain": [
       "count    103796.000000\n",
       "mean         19.166837\n",
       "std         110.992323\n",
       "min           0.000000\n",
       "25%           0.300000\n",
       "50%           0.750000\n",
       "75%           1.380000\n",
       "max        4322.220000\n",
       "Name: PESO_MAXIMO_DECOLAGEM_KG, dtype: float64"
      ]
     },
     "execution_count": 15,
     "metadata": {},
     "output_type": "execute_result"
    }
   ],
   "source": [
    "#Verificação sobre o peso máximo de decolagem informado\n",
    "df.PESO_MAXIMO_DECOLAGEM_KG.describe()"
   ]
  },
  {
   "cell_type": "markdown",
   "metadata": {},
   "source": [
    "Pela leitura das estatísticas descritivas do campo, a grande maioria dos drones são leves."
   ]
  },
  {
   "cell_type": "code",
   "execution_count": 16,
   "metadata": {},
   "outputs": [
    {
     "data": {
      "text/plain": [
       "DJI                                         87042\n",
       "DJI MINI SE                                    14\n",
       "DJI Mavic 2 enterprise zomm                     2\n",
       "F450 Fabricação Propria com GPS DJI NAza        1\n",
       "DJI S550 PRO - HEXACOPTERO                      1\n",
       "PHANTOM 4 RTK/DJI                               1\n",
       "ELETRONICA DJI FABRICAÇÃO PROPRIA               1\n",
       "Drone DJI Mavic Mini Mini Drone Dji Mavi        1\n",
       "SZ DJI TECHNOLOGY CO.                           1\n",
       "F450 COM MONTAGEM DA DJI                        1\n",
       "Equipamento montado com sistemas da DJI         1\n",
       "TBS Clone com controladora DJI Naza             1\n",
       "SZ DJI TECHINOLOG CO LTD                        1\n",
       "Fabric própria utilizando Kit DJI F550          1\n",
       "Name: FABRICANTE, dtype: int64"
      ]
     },
     "execution_count": 16,
     "metadata": {},
     "output_type": "execute_result"
    }
   ],
   "source": [
    "#Para agrupar os dados de fabricantes, farei um filtro para encontrar os principais fabricantes e agrupá-los\n",
    "df[df['FABRICANTE'].str.contains(\"DJI\", na=False)]['FABRICANTE'].value_counts()"
   ]
  },
  {
   "cell_type": "markdown",
   "metadata": {},
   "source": [
    "### Tratamento dos dados de texto"
   ]
  },
  {
   "cell_type": "code",
   "execution_count": 17,
   "metadata": {},
   "outputs": [],
   "source": [
    "#df['RAMO_ATIVIDADE'] = df['RAMO_ATIVIDADE'].str.casefold()\n",
    "#Deixa todas as letras minúsculas para realizar a comparação  \n",
    "df['FABRICANTE'] = df['FABRICANTE'].str.casefold()"
   ]
  },
  {
   "cell_type": "code",
   "execution_count": 18,
   "metadata": {},
   "outputs": [],
   "source": [
    "#Limpa alguns caracteres especiais\n",
    "df['FABRICANTE_TRATAMENTO'] = df['FABRICANTE'].str.replace(' ','').replace('/','').replace('-','').replace('.','').replace(',','')"
   ]
  },
  {
   "cell_type": "code",
   "execution_count": 19,
   "metadata": {},
   "outputs": [
    {
     "data": {
      "text/plain": [
       "array(['dji', '(maker):dji', 'szdjitechnologyco.,ltda',\n",
       "       'szdjitechnologyco.ltd.', 'djiminise', 'szdjitechnologyco.,ltd',\n",
       "       'szdjitechnology', 'djiinovationtecnologyco,ldt',\n",
       "       'szdjitechnologyco.,ltd-6500', 'djispark', 'szdjitechnologyco.ltd',\n",
       "       'f450fabricaçãopropriacomgpsdjinaza', 'djis550pro-hexacoptero',\n",
       "       'makerdji',\n",
       "       'szdjitechnologyco.,ltd14thfloor,westwing,skyworthsemiconductornºdesignbuildingno.18gaoxinsouth4thave,',\n",
       "       'szdjitechnologyco', 'djimavic2enterprisezomm',\n",
       "       'szdjitechnologyco.,ltd14thfloor,westwing,skyworthsemiconductornºdesignbuildingno.18gaoxinsouth4thave',\n",
       "       'djimavic', 'dji-iflighttechnologyco.,ltd.',\n",
       "       'szdjitechnologycoltd', 'szdjitecnologiaco.',\n",
       "       'dronedjimavicminifly', 'djitechnology', 'phantom4rtk/dji',\n",
       "       'szdjitechnologyco.ltda.', 'eletronicadjifabricaçãopropria',\n",
       "       'djiinvationtechnologyco,ldt', 'dronedjimavicminiminidronedjimavi',\n",
       "       'szdjitechnologyco.', 'f450commontagemdadji',\n",
       "       'szdjitechnologyco.ltd-6500', 'equipamentomontadocomsistemasdadji',\n",
       "       'tbsclonecomcontroladoradjinaza', 'szdjitechinologcoltd',\n",
       "       'fabricprópriautilizandokitdjif550',\n",
       "       'szdjitechnologyco.,ltd14thfloor,westwing,skyworthsemiconductorn',\n",
       "       'szdjitechnologyco,ltda', 'szdjitechnologyco.,ltd6500',\n",
       "       'szdjitechnologyco,ltd', 'szdjitechnologybco><lyd', 'djimini2fly',\n",
       "       'szdjitechnologia', 'djicameradrone', 'szdjitecnologycoltd',\n",
       "       'szdjitecnologyco,ltd', 'szdjitechnologyco,.ltd', \"dji'\",\n",
       "       'szdjitechnologyco.,ltd.', 'djii',\n",
       "       'djiinnovationsscienceandtechnology', 'djimavic2enterprise',\n",
       "       '(maker)dji', 'djifly', 'szdjitecnologyco.ltd',\n",
       "       'szdjitechology.co.,ltd.', 'djimini2',\n",
       "       'djiadà-jiānginnovationsscienceandtechnology', 'ryzetechedji',\n",
       "       'dji.mini2',\n",
       "       'szdjitechnologyco.,ltd-650014thfloor,westwing,skyworthsemiconductor,nºdesignbuildingno.18gaoxinsouth4thave,',\n",
       "       'djitechnologyco.ltd', 'szdjitechnologico',\n",
       "       'dji-dà-jiānginnovationsscienceandtechnology',\n",
       "       'shenzhendjisciencesandtechnologiesltd',\n",
       "       'szdjitechnologycoltd6500', 'ncm/sh/dji',\n",
       "       'szdjitechnologyco.,ltd14thfloor,westwing,skyworthsemiconductornodesignbuildingno.18gaoxinsouth4thave,',\n",
       "       'dji-ifiighttechnologyco.,ltd', 'szdjitechnology.co.,ltd', 'dji,2',\n",
       "       'djiinnovationtechnologyco,ltd', 'szdjitechnologyco.mltd',\n",
       "       'szdjitechnologyco.,ltd14thfloor,westwing,skyworthsemiconductor,n°designbuildingno.18gaoxinsouth4thave,',\n",
       "       'dji(dà-jiãnginnovations)', 'djitechnologyco.,ltd.',\n",
       "       'szdjitechonologyco.,ltd.', 'szdjitechnolyco.,ltd',\n",
       "       'djimavic2enterprisezoom', 'djitechnologyco.,ltd', 'djimavicpro',\n",
       "       'djitechnologyco', '\\u200edji', 'djipr', 'adji', 'djimas',\n",
       "       'djiinovationtechnologyco,ldt'], dtype=object)"
      ]
     },
     "execution_count": 19,
     "metadata": {},
     "output_type": "execute_result"
    }
   ],
   "source": [
    "#Verifica todos os nomes de fabricantes que possuem a palavra dji no texto\n",
    "df[df['FABRICANTE_TRATAMENTO'].str.contains(\"dji\", na=False)]['FABRICANTE_TRATAMENTO'].unique()"
   ]
  },
  {
   "cell_type": "code",
   "execution_count": 20,
   "metadata": {},
   "outputs": [],
   "source": [
    "#Cria uma lista com todos os textos que fazem referência a um drone da dji\n",
    "dji = ['dji', '(maker):dji', 'szdjitechnologyco.,ltda',\n",
    "       'szdjitechnologyco.ltd.', 'djiminise', 'szdjitechnologyco.,ltd',\n",
    "       'szdjitechnology', 'djiinovationtecnologyco,ldt',\n",
    "       'szdjitechnologyco.,ltd-6500', 'djispark', 'szdjitechnologyco.ltd',\n",
    "       'djis550pro-hexacoptero',\n",
    "       'makerdji',\n",
    "       'szdjitechnologyco.,ltd14thfloor,westwing,skyworthsemiconductornºdesignbuildingno.18gaoxinsouth4thave,',\n",
    "       'szdjitechnologyco', 'djimavic2enterprisezomm',\n",
    "       'szdjitechnologyco.,ltd14thfloor,westwing,skyworthsemiconductornºdesignbuildingno.18gaoxinsouth4thave',\n",
    "       'djimavic', 'dji-iflighttechnologyco.,ltd.',\n",
    "       'szdjitechnologycoltd', 'szdjitecnologiaco.',\n",
    "       'dronedjimavicminifly', 'djitechnology', 'phantom4rtk/dji',\n",
    "       'szdjitechnologyco.ltda.', 'djiinvationtechnologyco,ldt', 'dronedjimavicminiminidronedjimavi',\n",
    "       'szdjitechnologyco.', 'f450commontagemdadji',\n",
    "       'szdjitechnologyco.ltd-6500', 'tbsclonecomcontroladoradjinaza', 'szdjitechinologcoltd',\n",
    "       'szdjitechnologyco.,ltd14thfloor,westwing,skyworthsemiconductorn',\n",
    "       'szdjitechnologyco,ltda', 'szdjitechnologyco.,ltd6500',\n",
    "       'szdjitechnologyco,ltd', 'szdjitechnologybco><lyd', 'djimini2fly',\n",
    "       'szdjitechnologia', 'djicameradrone', 'szdjitecnologycoltd',\n",
    "       'szdjitecnologyco,ltd', 'szdjitechnologyco,.ltd', \"dji'\",\n",
    "       'szdjitechnologyco.,ltd.', 'djii',\n",
    "       'djiinnovationsscienceandtechnology', 'djimavic2enterprise',\n",
    "       '(maker)dji', 'djifly', 'szdjitecnologyco.ltd',\n",
    "       'szdjitechology.co.,ltd.', 'djimini2',\n",
    "       'djiadà-jiānginnovationsscienceandtechnology', 'ryzetechedji',\n",
    "       'dji.mini2',\n",
    "       'szdjitechnologyco.,ltd-650014thfloor,westwing,skyworthsemiconductor,nºdesignbuildingno.18gaoxinsouth4thave,',\n",
    "       'djitechnologyco.ltd', 'szdjitechnologico',\n",
    "       'dji-dà-jiānginnovationsscienceandtechnology',\n",
    "       'shenzhendjisciencesandtechnologiesltd',\n",
    "       'szdjitechnologycoltd6500', 'ncm/sh/dji',\n",
    "       'szdjitechnologyco.,ltd14thfloor,westwing,skyworthsemiconductornodesignbuildingno.18gaoxinsouth4thave,',\n",
    "       'dji-ifiighttechnologyco.,ltd', 'szdjitechnology.co.,ltd', 'dji,2',\n",
    "       'djiinnovationtechnologyco,ltd', 'szdjitechnologyco.mltd',\n",
    "       'szdjitechnologyco.,ltd14thfloor,westwing,skyworthsemiconductor,n°designbuildingno.18gaoxinsouth4thave,',\n",
    "       'dji(dà-jiãnginnovations)', 'djitechnologyco.,ltd.',\n",
    "       'szdjitechonologyco.,ltd.', 'szdjitechnolyco.,ltd',\n",
    "       'djimavic2enterprisezoom', 'djitechnologyco.,ltd', 'djimavicpro',\n",
    "       'djitechnologyco', '\\u200edji', 'djipr', 'adji', 'djimas',\n",
    "       'djiinovationtechnologyco,ldt','mavic', 'mavicair', 'mavic2', 'mavic´pro2', 'dronemavicair2',\n",
    "       'mavicair2droneprofessionalhd','phanton', 'dronephanton3pro','phantom', 'phantom3se', 'dronephantom4advance','dgimini', 'mini2','dj','djl']"
   ]
  },
  {
   "cell_type": "code",
   "execution_count": 21,
   "metadata": {},
   "outputs": [],
   "source": [
    "#Cria uma lista com todos os textos que fazem referência a um drone da hubsan\n",
    "hubsan  = ['hubsan', 'shenzenhubsantecnologia',\n",
    "       'shenzhenhubsantechnologyco.ltd.', 'dronethehubsan',\n",
    "       'shenzhenhubsantechnologyco.ltd', 'hubsanzinoh117s',\n",
    "       'shenzhemhubsantechnologycompanylimit',\n",
    "       'shenzhenhubsantechnologycoltd.', 'hubsanzino2+plus',\n",
    "       'hubsanfpvx4brushless', 'hubsanfpvx4brusheess', 'hubsantecnology',\n",
    "       'shenzhenhubsantechnologycompanylimit', 'hubsan501sbranco',\n",
    "       'hubsanzinoh117', 'shenzhenhubsan', 'hubsanx4desire', 'hubsan501s',\n",
    "       'hubsanh501s-s', 'shenzhenhubsantechnologycompanylimi',\n",
    "       'fabricantehubsan', 'hubsanx4câmerafpv1080psemescovagp',\n",
    "       'hubsanx4', 'hubsanfpvx4desire', 'hubsanh501ss', 'hubsanzino',\n",
    "       'hubsanh501ssx4', 'makerhubsanh501ss',\n",
    "       'hubsantecnologycompanylimited',\n",
    "       'shenzhenhubsantechnologycompanyltd',\n",
    "       'shenzhenhubsantechnologycoltd', 'hubsanzinoro', 'hubsanzino117s',\n",
    "       'hubsanx4desireh502s', 'shenzhenhubsantechnologycompany',\n",
    "       'hubsanzinoh170s', 'hubsanx4h501s', 'hubsanh501a', 'hubsanzinopro',\n",
    "       'shenzhenhubsantechnologyco', 'shenzhenhubsantechnologyco.',\n",
    "       'shenzhenhubsantechnologycompanylimited',\n",
    "       'shenzhenhubsantechnology', 'shenzhenhubsantechnologyco.,ltd',\n",
    "       'shenzenhubsantechnologyco.,ltd',\n",
    "       'shenzhenhubsantechenologyco.,ltd','hubsanzinoh117s', 'hubsanzino2+plus', 'hubsanzinoh117',\n",
    "       'husbsanzinos117', 'hubsanzino', 'hubsanzinoro', 'hubsanzino117s',\n",
    "       'hubsanzinoh170s', 'hubsanzinopro']"
   ]
  },
  {
   "cell_type": "code",
   "execution_count": 22,
   "metadata": {},
   "outputs": [],
   "source": [
    "#Cria uma lista com todos os textos que fazem referência a um drone da xiaomi\n",
    "fimi = ['fimi', 'xiaomifimi', 'beijingfimitechnologyco.ltd.',\n",
    "       'beijingfimitechnology', 'beijingfimitechnologylimited',\n",
    "       'fimix8se', 'fimirobottechnologyco.ltd', 'xiaomifimix8',\n",
    "       'fimix82020', 'beijingfimitechnologyco.ltd', 'xiaomifimix8se',\n",
    "       'xioamifimia3', 'shenzhenfimirobottechnologyco.ltd.',\n",
    "       'shenzhenfimirobottechnologyco.ltd', 'beijingfimitechnology07c',\n",
    "       'beijingfimitechnologyco.ltda', 'fimitechnologyltda',\n",
    "       'fimitecnologycoltd', 'fimitechnologyltd',\n",
    "       'beijingfimitechnologyltd', 'fimitechnologyco.ltd',\n",
    "       'beijingfimitechnologyelana', 'beijingfimitecchnology',\n",
    "       'fimi(xiomi)', 'dronefimix8se', 'beijingfimitechnologyco',\n",
    "       'fimix8se2020', 'fimix8', 'beijingfimitechnologycom.ltd',\n",
    "       'dronefimix8se2020', 'xiaomi(beijingfimitechnologylimited)',\n",
    "       'fimisex82020', 'fimimini2', 'fimi/xiaomi',\n",
    "       'shenzhenfimirobottechnology', 'fimitechnology',\n",
    "       'shenzhenfimirobottechnologycoltda', 'fimixiaomix8se2020',\n",
    "       'xiaomi(beijingfimitecnologylimited)', 'xiaomi[fimi]',\n",
    "       'fimix8sedrone', 'beijinfimitechnology',\n",
    "       'shenzhenfimirobottechnologyco.,ltd', 'fimi(xiaomi)',\n",
    "       'beijingfimitechnologyco.ltd(xiaomi)', 'beijingfimi',\n",
    "       'beijingfimitechinology', 'beijingifimitechnology',\n",
    "       'beijinfimiinc.ltd', 'xioami(beijingfimitechnologylimted)',\n",
    "       'dronefimix8se2019', 'beijingfimitechnology07cblockaflo',\n",
    "       'xiaomifimix8mini', 'dronexiaomifimix8se2020', 'fimise2020',\n",
    "       'beijingfimitechnologycoltd',\n",
    "       'beijingfimitechnologylimited-xiaomi',\n",
    "       'xiaomi-beijingfimitechnologylimited', 'fimi-x8se2020',\n",
    "       'beijingfimitechnologyco.lyd', 'fimitechnologyltd.',\n",
    "       'bejingfimitechnology', 'beijingfimitecnologyco',\n",
    "       'shenzhenfimirobottechnologyco.,ltd.',\n",
    "       'shenzhenfimirobottechnologyco,ltd', 'beijingfimitechnologuco.',\n",
    "       'fimirobottechnology', 'beijingfimitechnologyco.,ltd.',\n",
    "       'xiaomifimix8se2020', 'beijingfimitechnologylimitedfimix8',\n",
    "       'beijingfimitechnology07c,blocka,floor7,no.28,xinxirodajia,haidiannº',\n",
    "       'beijingfimitechnologylts', 'beijingfimitecnologyco,ltd',\n",
    "       'fimitechnologyco.,ltd', 'shenzenfimirobottechnologyco.ltd','xiaomi', 'xiaomifímix8se',\n",
    "       'xiaomicommunicationstechnologyco.ltd.', 'xiaomimidrone',\n",
    "       'xiaomitechnologyco.ltd', 'xiaomi.', 'xiaomimi', 'xiaomimidrone4k',\n",
    "       'xiaomifime', 'xiaomidrone', 'xiaomi-midrine','xiomi','xiome','xioami','xiaome','xiaiomi','xaiomi']"
   ]
  },
  {
   "cell_type": "code",
   "execution_count": 23,
   "metadata": {},
   "outputs": [],
   "source": [
    "#Cria uma lista com todos os textos que fazem referência a um drone da sjrc\n",
    "sjrc = ['sjrc', 'sjrcf11', 'sjrcquadcopter', 'sjrcf11gps5gwififpv',\n",
    "       'sjrcf74kpro', 'sjrcf114kpro', 'fabricante-sjrc', 'dronesjrc',\n",
    "       'sjrc-f11', 'sjrcf114kpro5gwififpvgps', 'csjrc',\n",
    "       'sjrcroom38,11/f,meecoindustrialcenternº53-55aupuiwanst.,fotan,n.t.',\n",
    "       'sjrcf11pró', '*sjrc_drone*', 'sjrcf11s4kpro',\n",
    "       'sjrcroom34,11/f,meecoindustrialcenternª53-55aupuiwanst.,fotan,n.t.,']"
   ]
  },
  {
   "cell_type": "code",
   "execution_count": 24,
   "metadata": {},
   "outputs": [],
   "source": [
    "#Cria uma lista com todos os textos que fazem referência a um drone da wld\n",
    "wld = ['theworldmodels', 'theworldmodels-radar', 'worldmodels',\n",
    "       'worldmodel', 'theworldmoldel', 'theworldmodel',\n",
    "       'worldmodelsradar', 'seagull-theworldmodels',\n",
    "       'aeroworksworldclassaircraft', 'airworld','wordmodel',\n",
    "        'wordmodels', 'thewordmodels','theworlsmodels']"
   ]
  },
  {
   "cell_type": "code",
   "execution_count": 25,
   "metadata": {},
   "outputs": [],
   "source": [
    "#Cria uma lista com todos os textos que fazem referência a um drone da iflight\n",
    "iflight = ['iflight', 'iflight/tbsavionicslimited', 'ifligh',\n",
    "       'iflightinnovationtechnologyltd', 'iflightnazgulf5dc',\n",
    "       'iflightchimera5', 'iflightix7', 'cinewhoopiflight', 'iflightgo']"
   ]
  },
  {
   "cell_type": "code",
   "execution_count": 26,
   "metadata": {},
   "outputs": [],
   "source": [
    "#Cria uma lista com todos os textos que fazem referência a um drone de fabricação própria\n",
    "artesanal = ['fabricaçãoartesanal', 'fabricaçaõprópria',\n",
    "       'kitdefabricaçãoprópria', 'fabricaçãoprópria',\n",
    "       'semfabricante/marcasmescladas', 'fabricaçãopropia',\n",
    "       'fabricaçãopropria', 'fabricaçãocaseira',\n",
    "       'f450fabricaçãopropriacomgpsdjinaza', 'fabricantezlldroneportátil',\n",
    "       'utilizadopeçasdeváriosfabricantes', 'fabricapilot-china',\n",
    "       'agrosense(fabricaçãoprópria)', 'prototipodefabricaçãopropria',\n",
    "       'protótipodefabricaçãoprópria', 'fabricantealzrc',\n",
    "       'fabricantepróprio', 'fabricaçãoprópriaartesanal',\n",
    "       'fabricantekahakiboy', 'fabricaçaopropria',\n",
    "       'eletronicadjifabricaçãopropria', 'fabricaçãop´ropria',\n",
    "       'aeromodelodefabricaçãoprópria', 'aeromodelofabricadoemisoporp3',\n",
    "       'aeromodelodefabricaçãoartesanal', 'f4ucorsairfabricadoemisopor',\n",
    "       'aeromodelofabricadoemcasa', 'fabricaçaoprropria',\n",
    "       'fabricaçãopropria-balsaemonokote', 'fabricacaopropria',\n",
    "       'fabricantebalsausa', 'fabricaçãoemcnc', 'fabricaçãonacionalcnc',\n",
    "       'fabricaçãonacionalempastinha', 'fabricantejjrc',\n",
    "       'droneracingfabricanteeachine', 'aeromodelofabricaçãopropria',\n",
    "       'fabricaçaopropriaemmadeira', 'fabricacaoartesanal',\n",
    "       'fabricaçãoartesanal.construçãoprópria.', 'fabricacaocaseira',\n",
    "       'fabricadoemsãopaulo', 'fabricaçãoartezanal',\n",
    "       'fabricaçãopropriaconformeplanta',\n",
    "       'aeromodelofabricantedokitflyingcirc', 'fabricadoemcasa',\n",
    "       'fabricadopelooperador.', 'f450defabricantenãoseriado',\n",
    "       'dronecompostopordiversosfabricantes',\n",
    "       'aviãoaeromodelomodelokestrellfabric', 'kitdofabricantepilotrc',\n",
    "       'kitdofabricanteaeroworksrc', 'montadocomdiferentesfabricantes',\n",
    "       'fabricantegenérico', 'kitfabricaçãoprópria',\n",
    "       'compradode2ªmãosemfabricanteespec', 'semfabricanteespecífico',\n",
    "       'fabricaçaopropriaaeromodelo', 'fabricaçaopropriaasazagui',\n",
    "       'utilizapeçasdeváriosfabricantes', 'fabricaçãoprópriacomasafixa',\n",
    "       'fabricprópriautilizandokitdjif550', 'fabricaçãoparticular',\n",
    "       'fabricaçaopropia', 'fabricaçãopropriá', 'semnomedefabricante',\n",
    "       'dronedefabricação-kit', 'fabricaçõcaseira', 'fabricaçãopessoal',\n",
    "       'owldrones/pixhawk-fabricaçãoprópria', 'fabri', 'nomefabricante','prototipo', 'prototipodefabricaçãopropria', 'protocol'\n",
    "       ,'fabricaçãoartesanal', 'artesãodiegodiasfortaleza', 'artesanal',\n",
    "       'artesanalmente', 'fabricaçãoprópriaartesanal',\n",
    "       'feitoartesanalmenteparapesca', 'aeromodelodefabricaçãoartesanal',\n",
    "       'aeromodeloartesanal', 'droneartesanalfpv', 'contruçãoartesanal',\n",
    "       'fabricacaoartesanal', 'montagemartesanal',\n",
    "       'fabricaçãoartesanal.construçãoprópria.', 'construçãoartesanal',\n",
    "       'artesanal(caseiro)', 'artesanalfeitoemcasa',\n",
    "       'artesanalstretaircraft','projetoeconstruçãopróprios', 'aeronaveconstruida',\n",
    "       'construçãoprópria', 'autoconstruido',\n",
    "       'construçãoemontagemprópria', 'construçãoartezanal', 'construido',\n",
    "       'construção', 'construçãopropria.', 'projeto/construçãoprópria',\n",
    "       'projetoeconstrução:yuriyyatsenko',\n",
    "       'aeromodelodeconstruçãoprópria', 'projetoeconstruçãopróprio',\n",
    "       'projetoeconstruçãopróprio.', 'modeloconstruídomanualmente',\n",
    "       'construçaopropria', 'construçaopropia', 'construidopormimmesmo','ufmsearaterconsultoriaeprojetos',\n",
    "       'projeto&montagem:fmuavfabiomarcelino',\n",
    "       'projetoeconstruçãopróprios', 'proj.betoglaser/mont.fabiorenaud',\n",
    "       'projeto/construçãoprópria', 'projetoeconstrução:yuriyyatsenko',\n",
    "       'projetoeconstruçãopróprio', 'projetoeconstruçãopróprio.',\n",
    "       'modelodeprojetoproprio-zenith','equipamentomontadocompeçasvariadas', 'dronemontado', 'rpamontado',\n",
    "       'dronemontadopormin', 'droneracermontadoehomologadonaanac',\n",
    "       'droneracermontado', 'montadopelooperador', 'montadopormimmesmo',\n",
    "       'academiadofpv-montado', 'montadopessoalmente',\n",
    "       'quadricopteromontadocompeçasdiversas', 'dronemontadopelousuário',\n",
    "       'aeromodelomontadoemisopor/eletrônica', 'montado', 'montadoemcasa',\n",
    "       'drodes500montado', 'dronemontadoehomologadoparapesca',\n",
    "       'dronemontadof450', 'dronecustommontado.',\n",
    "       'dronemontadocompeçasdiversas.', 'montadopeloproprio',\n",
    "       'aeromodelomontadokit', 'equipamentomontado', 'kitmontado',\n",
    "       'dronemontadopormincompeçasdiversas',\n",
    "       'aeromodeloshockflyermontado', 'aeromodelomontado',\n",
    "       'droneracermontadoehomologado', 'quadricopteromontado',\n",
    "       'montadocompeçasindividuais', 'dronemontadomanualmente',\n",
    "       'dronemontadoehomologadonaanatel', 'dronefreestylemontado2',\n",
    "       'dronefreestylemontado3', 'equipamentomontadocomsistemasdadji',\n",
    "       'droneracermontado4polegadas', 'dronemontadocompeçaschinesas',\n",
    "       'dronemontadoehomologadoanatel', 'montadopersonalizado',\n",
    "       'supertucanomontadoemisopor', 'dronemontadocompeçasvariadas',\n",
    "       'droneracermontadoehologadonaanatel', 'droneracer(montado)',\n",
    "       'montadocompeçasdiversas', 'montadopessoalmente-hobby',\n",
    "       'dronemontadocomcâmera', 'montadomanualmente',\n",
    "       'montadopelopropriet´rio', 'montadopeloproprietário']"
   ]
  },
  {
   "cell_type": "code",
   "execution_count": 27,
   "metadata": {},
   "outputs": [],
   "source": [
    "#Cria uma lista com todos os textos que fazem referência a um drone da shantou\n",
    "shantou = ['shantoukaishengfengtoysco.,ltd.',\n",
    "       'shantouzhongliintelligenttechnologyc0.,ltd.',\n",
    "       'shantoukaishengfengtoys',\n",
    "       'shantouzhongliintelligenttechnologyco.,ltd808th,westfengxin1stroad,chenghainºchina',\n",
    "       'shantoukaishengfengtoysco', 'shantoucityxinlin',\n",
    "       'shantouzhongliintelligenttechnologyco.,ltd',\n",
    "       'shantoukaisheengfengtoysco.ltd', 'shantoukaishengfengtoysco.ltd',\n",
    "       'shantouxiaowanguotradingco.ltd.',\n",
    "       'shantoucityxinlintoysindustrialco.',\n",
    "       'shantouxinlintoysindustrialcompany',\n",
    "       'shantouzhongliintelligenttechnology',\n",
    "       'shantoucityxinlintpysco.ltd', 'kf102-shantoukaishengfengtoysco.',\n",
    "       'shantouzhongliintelligenttechnologyco',\n",
    "       'shantoucityxinlintoysindu', 'shantouxiaowangguotradingco,ltd.',\n",
    "       'shantouzhongliinteligenttechnologyco',\n",
    "       'shantoukaishengfengtoysco.,ltd',\n",
    "       'shantouzhongliintelligenttechnologyco.',\n",
    "       'shantoucityxinlintoysindustrialco.,ltd.',\n",
    "       'shantoukaishengfengtoysco.ldt.',\n",
    "       'shantouxiaowangguotradingco.ltd.',\n",
    "       'shantoukaishengfengtoysco.ltd.', 'shantoukaishengfeng',\n",
    "       'shantouzhongliintelligenttechnologyc',\n",
    "       'shantoukaishengfengtoyscoltda',\n",
    "       'shantouzhongliintelligenttechnologyco.ltd.',\n",
    "       'shantoucityxinlintoysindustrialco', 'shantouchenghai',\n",
    "       'shantoukaishengfengtoysco.ltda.',\n",
    "       'shantoucityxinlintoysindustrialco.,ltd', 'shantou',\n",
    "       'shantoucytixinlintoysindustrialc',\n",
    "       'shantoucityxintoysindustrialco.ltd',\n",
    "       'shantoucityxinlintoysindustrial',\n",
    "       'shantoucitylintoysindustrialco.ltd',\n",
    "       'shantouzhongliintelligenttech.co.lt',\n",
    "       'shantoukaishengfengtoyscoltd',\n",
    "       'shantoucityxinlintoysindustrialltd',\n",
    "       'shantoucitychenghaiareahuadatoyco.',\n",
    "       'shantoumeijiaxinplastictoysco.ltd',\n",
    "       'shantourunqiaplastictoysfactory',\n",
    "       'shantouyearlotoysco.,ltd.southofthemiddlesectionoffengxiang',\n",
    "       'shantoukaishengfengtoysco.,ltd.fengxiangstreet',\n",
    "       'shantouzhongilintelligenttechnologyco,ltda',\n",
    "       'shantoucityxinlintoysindustrialco.ltd',\n",
    "       'kfplan(shantoukaishengfengtoysco.,ltd.)',\n",
    "       'shantouxinlintoysindustrialco.ltd',\n",
    "       'shantoucityxinlinbrinquedosindustrialco.,ltd.',\n",
    "       'shantoukaishengfengtoyscoltd.',\n",
    "       'shantouzhongliintelligenttechnologyco.ltd',\n",
    "       'kfplan(shantoukaisheengfengtoysco.ltd)',\n",
    "       'shantouchuangqiinteligenttechnologyco.ltda.',\n",
    "       'shantoucityxinlintoys', 'shantoucityxinlintoysindustrialco.lto',\n",
    "       'shantou/\\t\\u200ekfplan', 'shantoucityxinlintoysco.,ltd(zll)',\n",
    "       'shantoucityxinlintoysindustrialco.,ltdn°.6xinjinroadzhujinindustrialzonenºlonghudistrict,shantoucity',\n",
    "       'shantoukaishenfengtoysco.,ltd.',\n",
    "       'shantouchenghaikaishengfengtoysco.,ltd',\n",
    "       'shantoukaishengfengtoysco.,ltd.fengxiangstreetnºgangkousection,fengxin1stroad,chengaidist.,',\n",
    "       'shantouxiaowanguotradingcoltda', 'shantouk.toysco.ltd',\n",
    "       'shantoukaishengfngtoysco.,ltd.', 'shantoucitytoys',\n",
    "       'shantoukaishengfengtoysco,ltd', 'shantoukaishengfengtoysco,ltd,',\n",
    "       'shantoukaishengfengtoys.ltd', 'shantouzhongliintelligent',\n",
    "       'shantouzhongliintelligenttechnologyco.,ltda.', 'shantoucity',\n",
    "       'shantouksftoysco.,ltd', 'shantoucityxinlintoyscoltd',\n",
    "       'shantouchenghaidistrictlianxiafuqifábricadeprocessamentodeplástico',\n",
    "       'shantouzhongliintelligenttecnology']"
   ]
  },
  {
   "cell_type": "code",
   "execution_count": 28,
   "metadata": {},
   "outputs": [],
   "source": [
    "#Para facilitar a identificação dos drones das principais marcas, filtramos os drones de cada fabricante com base nos textos encontrados com o nome do fabricante e renomeamos por um nome padronizado \n",
    "df.FABRICANTE_TRATAMENTO.replace(dji, 'DJI', inplace=True)\n",
    "df.FABRICANTE_TRATAMENTO.replace(fimi, 'XIAOMI', inplace=True)\n",
    "df.FABRICANTE_TRATAMENTO.replace(hubsan, 'HUBSAN', inplace=True)\n",
    "df.FABRICANTE_TRATAMENTO.replace(sjrc, 'SJRC', inplace=True)\n",
    "df.FABRICANTE_TRATAMENTO.replace(wld, 'WORLD MODEL', inplace=True)\n",
    "df.FABRICANTE_TRATAMENTO.replace(iflight, 'IFLIGHT', inplace=True)\n",
    "df.FABRICANTE_TRATAMENTO.replace(artesanal, 'ARTESANAL', inplace=True)\n",
    "df.FABRICANTE_TRATAMENTO.replace(shantou, 'SHANTOU', inplace=True)\n"
   ]
  },
  {
   "cell_type": "code",
   "execution_count": 29,
   "metadata": {},
   "outputs": [],
   "source": [
    "#Abaixo é realizada a padronização do tipo de uso do drone com base na identificação do campo código aeronave\n",
    "#Essa identificação encontra-se no link: https://www.anac.gov.br/acesso-a-informacao/dados-abertos/areas-de-atuacao/aeronaves/drones-cadastrados/9-drones-cadastrados\n",
    "uso = {'PR':'Recreativo (Aeromodelo)'\n",
    "      ,'PP':'Não recreativo básico'\n",
    "      ,'PS':'Uso avançado'}\n",
    "\n",
    "df['USO'] = df['CODIGO_AERONAVE'].str.slice(0,2).map(uso)"
   ]
  },
  {
   "cell_type": "code",
   "execution_count": 30,
   "metadata": {},
   "outputs": [
    {
     "data": {
      "text/plain": [
       "Recreativo (Aeromodelo)    56764\n",
       "Não recreativo básico      46802\n",
       "Uso avançado                 230\n",
       "Name: USO, dtype: int64"
      ]
     },
     "execution_count": 30,
     "metadata": {},
     "output_type": "execute_result"
    }
   ],
   "source": [
    "#verifica os valores distintos e a contagem no campo uso\n",
    "df['USO'].value_counts()"
   ]
  },
  {
   "cell_type": "code",
   "execution_count": 31,
   "metadata": {},
   "outputs": [
    {
     "data": {
      "text/html": [
       "<div>\n",
       "<style scoped>\n",
       "    .dataframe tbody tr th:only-of-type {\n",
       "        vertical-align: middle;\n",
       "    }\n",
       "\n",
       "    .dataframe tbody tr th {\n",
       "        vertical-align: top;\n",
       "    }\n",
       "\n",
       "    .dataframe thead th {\n",
       "        text-align: right;\n",
       "    }\n",
       "</style>\n",
       "<table border=\"1\" class=\"dataframe\">\n",
       "  <thead>\n",
       "    <tr style=\"text-align: right;\">\n",
       "      <th></th>\n",
       "      <th>CODIGO_AERONAVE</th>\n",
       "      <th>DATA_VALIDADE</th>\n",
       "      <th>TIPO_USO</th>\n",
       "      <th>FABRICANTE</th>\n",
       "      <th>MODELO</th>\n",
       "      <th>PESO_MAXIMO_DECOLAGEM_KG</th>\n",
       "      <th>RAMO_ATIVIDADE</th>\n",
       "      <th>FABRICANTE_TRATAMENTO</th>\n",
       "      <th>USO</th>\n",
       "    </tr>\n",
       "  </thead>\n",
       "  <tbody>\n",
       "    <tr>\n",
       "      <th>0</th>\n",
       "      <td>PP- 11082012</td>\n",
       "      <td>05/01/2024</td>\n",
       "      <td>Básico</td>\n",
       "      <td>dji</td>\n",
       "      <td>Mavic</td>\n",
       "      <td>0.743</td>\n",
       "      <td>Aerocinematografia</td>\n",
       "      <td>DJI</td>\n",
       "      <td>Não recreativo básico</td>\n",
       "    </tr>\n",
       "    <tr>\n",
       "      <th>1</th>\n",
       "      <td>PP- 26534803</td>\n",
       "      <td>07/04/2024</td>\n",
       "      <td>Básico</td>\n",
       "      <td>dji</td>\n",
       "      <td>Mavic 2 Pro</td>\n",
       "      <td>9.000</td>\n",
       "      <td>Aerofotografia</td>\n",
       "      <td>DJI</td>\n",
       "      <td>Não recreativo básico</td>\n",
       "    </tr>\n",
       "    <tr>\n",
       "      <th>2</th>\n",
       "      <td>PP- 35041299</td>\n",
       "      <td>03/01/2024</td>\n",
       "      <td>Básico</td>\n",
       "      <td>dji</td>\n",
       "      <td>Mavic</td>\n",
       "      <td>0.128</td>\n",
       "      <td>Aeroinspeção</td>\n",
       "      <td>DJI</td>\n",
       "      <td>Não recreativo básico</td>\n",
       "    </tr>\n",
       "    <tr>\n",
       "      <th>3</th>\n",
       "      <td>PP- 40211550</td>\n",
       "      <td>05/05/2023</td>\n",
       "      <td>Básico</td>\n",
       "      <td>dji</td>\n",
       "      <td>Phantom 4 Pro</td>\n",
       "      <td>1.388</td>\n",
       "      <td>Aerolevantamento - Aerofotogrametria</td>\n",
       "      <td>DJI</td>\n",
       "      <td>Não recreativo básico</td>\n",
       "    </tr>\n",
       "    <tr>\n",
       "      <th>4</th>\n",
       "      <td>PP-000000001</td>\n",
       "      <td>26/03/2023</td>\n",
       "      <td>Básico</td>\n",
       "      <td>dji</td>\n",
       "      <td>Mavic</td>\n",
       "      <td>1.000</td>\n",
       "      <td>Aerocinematografia</td>\n",
       "      <td>DJI</td>\n",
       "      <td>Não recreativo básico</td>\n",
       "    </tr>\n",
       "    <tr>\n",
       "      <th>...</th>\n",
       "      <td>...</td>\n",
       "      <td>...</td>\n",
       "      <td>...</td>\n",
       "      <td>...</td>\n",
       "      <td>...</td>\n",
       "      <td>...</td>\n",
       "      <td>...</td>\n",
       "      <td>...</td>\n",
       "      <td>...</td>\n",
       "    </tr>\n",
       "    <tr>\n",
       "      <th>103807</th>\n",
       "      <td>PR-548746952</td>\n",
       "      <td>05/10/2024</td>\n",
       "      <td>Básico</td>\n",
       "      <td>dji</td>\n",
       "      <td>Mini</td>\n",
       "      <td>0.250</td>\n",
       "      <td>Recreativo</td>\n",
       "      <td>DJI</td>\n",
       "      <td>Recreativo (Aeromodelo)</td>\n",
       "    </tr>\n",
       "    <tr>\n",
       "      <th>103808</th>\n",
       "      <td>PR-181298149</td>\n",
       "      <td>20/10/2024</td>\n",
       "      <td>Básico</td>\n",
       "      <td>c-fly intelligent technology</td>\n",
       "      <td>Faith 2S</td>\n",
       "      <td>0.570</td>\n",
       "      <td>Recreativo</td>\n",
       "      <td>c-flyintelligenttechnology</td>\n",
       "      <td>Recreativo (Aeromodelo)</td>\n",
       "    </tr>\n",
       "    <tr>\n",
       "      <th>103809</th>\n",
       "      <td>PR-139126124</td>\n",
       "      <td>07/10/2024</td>\n",
       "      <td>Básico</td>\n",
       "      <td>zll</td>\n",
       "      <td>Sg700D</td>\n",
       "      <td>612.600</td>\n",
       "      <td>Recreativo</td>\n",
       "      <td>zll</td>\n",
       "      <td>Recreativo (Aeromodelo)</td>\n",
       "    </tr>\n",
       "    <tr>\n",
       "      <th>103810</th>\n",
       "      <td>PR-281220000</td>\n",
       "      <td>12/10/2024</td>\n",
       "      <td>Básico</td>\n",
       "      <td>dji</td>\n",
       "      <td>Phantom 2</td>\n",
       "      <td>1.000</td>\n",
       "      <td>Recreativo</td>\n",
       "      <td>DJI</td>\n",
       "      <td>Recreativo (Aeromodelo)</td>\n",
       "    </tr>\n",
       "    <tr>\n",
       "      <th>103811</th>\n",
       "      <td>PR-020231991</td>\n",
       "      <td>11/09/2024</td>\n",
       "      <td>Básico</td>\n",
       "      <td>dji</td>\n",
       "      <td>DJI Mini SE (MT2SS5)</td>\n",
       "      <td>0.250</td>\n",
       "      <td>Recreativo</td>\n",
       "      <td>DJI</td>\n",
       "      <td>Recreativo (Aeromodelo)</td>\n",
       "    </tr>\n",
       "  </tbody>\n",
       "</table>\n",
       "<p>103796 rows × 9 columns</p>\n",
       "</div>"
      ],
      "text/plain": [
       "       CODIGO_AERONAVE DATA_VALIDADE TIPO_USO                    FABRICANTE  \\\n",
       "0         PP- 11082012    05/01/2024   Básico                           dji   \n",
       "1         PP- 26534803    07/04/2024   Básico                           dji   \n",
       "2         PP- 35041299    03/01/2024   Básico                           dji   \n",
       "3         PP- 40211550    05/05/2023   Básico                           dji   \n",
       "4         PP-000000001    26/03/2023   Básico                           dji   \n",
       "...                ...           ...      ...                           ...   \n",
       "103807    PR-548746952    05/10/2024   Básico                           dji   \n",
       "103808    PR-181298149    20/10/2024   Básico  c-fly intelligent technology   \n",
       "103809    PR-139126124    07/10/2024   Básico                           zll   \n",
       "103810    PR-281220000    12/10/2024   Básico                           dji   \n",
       "103811    PR-020231991    11/09/2024   Básico                           dji   \n",
       "\n",
       "                      MODELO  PESO_MAXIMO_DECOLAGEM_KG  \\\n",
       "0                      Mavic                     0.743   \n",
       "1                Mavic 2 Pro                     9.000   \n",
       "2                      Mavic                     0.128   \n",
       "3              Phantom 4 Pro                     1.388   \n",
       "4                      Mavic                     1.000   \n",
       "...                      ...                       ...   \n",
       "103807                  Mini                     0.250   \n",
       "103808              Faith 2S                     0.570   \n",
       "103809                Sg700D                   612.600   \n",
       "103810             Phantom 2                     1.000   \n",
       "103811  DJI Mini SE (MT2SS5)                     0.250   \n",
       "\n",
       "                              RAMO_ATIVIDADE       FABRICANTE_TRATAMENTO  \\\n",
       "0                         Aerocinematografia                         DJI   \n",
       "1                             Aerofotografia                         DJI   \n",
       "2                               Aeroinspeção                         DJI   \n",
       "3       Aerolevantamento - Aerofotogrametria                         DJI   \n",
       "4                         Aerocinematografia                         DJI   \n",
       "...                                      ...                         ...   \n",
       "103807                            Recreativo                         DJI   \n",
       "103808                            Recreativo  c-flyintelligenttechnology   \n",
       "103809                            Recreativo                         zll   \n",
       "103810                            Recreativo                         DJI   \n",
       "103811                            Recreativo                         DJI   \n",
       "\n",
       "                            USO  \n",
       "0         Não recreativo básico  \n",
       "1         Não recreativo básico  \n",
       "2         Não recreativo básico  \n",
       "3         Não recreativo básico  \n",
       "4         Não recreativo básico  \n",
       "...                         ...  \n",
       "103807  Recreativo (Aeromodelo)  \n",
       "103808  Recreativo (Aeromodelo)  \n",
       "103809  Recreativo (Aeromodelo)  \n",
       "103810  Recreativo (Aeromodelo)  \n",
       "103811  Recreativo (Aeromodelo)  \n",
       "\n",
       "[103796 rows x 9 columns]"
      ]
     },
     "execution_count": 31,
     "metadata": {},
     "output_type": "execute_result"
    }
   ],
   "source": [
    "#Exibe as primeiras e últimas linhas do DataFrame\n",
    "df"
   ]
  },
  {
   "cell_type": "code",
   "execution_count": 32,
   "metadata": {},
   "outputs": [],
   "source": [
    "#Substitui as informações originais da coluna fabricante pelos dados normalizados da coluna fabricante_tratamento\n",
    "#Apaga os campos que não serão utilizados na análise\n",
    "df['FABRICANTE'] = df['FABRICANTE_TRATAMENTO']\n",
    "del df['FABRICANTE_TRATAMENTO']\n",
    "del df['RAMO_ATIVIDADE']\n",
    "del df['CODIGO_AERONAVE']\n",
    "del df['DATA_VALIDADE']\n",
    "del df['PESO_MAXIMO_DECOLAGEM_KG']\n"
   ]
  },
  {
   "cell_type": "code",
   "execution_count": 33,
   "metadata": {},
   "outputs": [],
   "source": [
    "#Remove o \"_\" presente nos nomes dos campos\n",
    "df.columns = df.columns.str.replace('_',' ')"
   ]
  },
  {
   "cell_type": "code",
   "execution_count": 34,
   "metadata": {},
   "outputs": [],
   "source": [
    "#Grava o resultado final em um arquivo \".csv\"\n",
    "df.to_csv('SISANT_20221026.csv', sep='|',index=False, float_format='%.3f')"
   ]
  }
 ],
 "metadata": {
  "kernelspec": {
   "display_name": "Python 3.9.7 ('base')",
   "language": "python",
   "name": "python3"
  },
  "language_info": {
   "codemirror_mode": {
    "name": "ipython",
    "version": 3
   },
   "file_extension": ".py",
   "mimetype": "text/x-python",
   "name": "python",
   "nbconvert_exporter": "python",
   "pygments_lexer": "ipython3",
   "version": "3.9.7"
  },
  "orig_nbformat": 4,
  "vscode": {
   "interpreter": {
    "hash": "ad2bdc8ecc057115af97d19610ffacc2b4e99fae6737bb82f5d7fb13d2f2c186"
   }
  }
 },
 "nbformat": 4,
 "nbformat_minor": 2
}
